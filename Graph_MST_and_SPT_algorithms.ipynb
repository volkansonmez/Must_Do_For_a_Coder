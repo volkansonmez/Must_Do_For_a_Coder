{
 "cells": [
  {
   "cell_type": "markdown",
   "metadata": {},
   "source": [
    " #### First Part: Greedy MST Algorithms -  Kruskal's & Prim's"
   ]
  },
  {
   "cell_type": "code",
   "execution_count": 1,
   "metadata": {},
   "outputs": [
    {
     "name": "stdout",
     "output_type": "stream",
     "text": [
      "undirected graph\n",
      "[[0. 2. 8. 0. 3. 0. 0. 3. 9. 1.]\n",
      " [2. 0. 2. 3. 3. 0. 3. 0. 3. 0.]\n",
      " [8. 2. 0. 0. 0. 3. 0. 0. 0. 8.]\n",
      " [0. 3. 0. 0. 3. 8. 0. 3. 0. 3.]\n",
      " [3. 3. 0. 3. 0. 0. 7. 0. 0. 0.]\n",
      " [0. 0. 3. 8. 0. 0. 8. 2. 6. 3.]\n",
      " [0. 3. 0. 0. 7. 8. 0. 2. 3. 0.]\n",
      " [3. 0. 0. 3. 0. 2. 2. 0. 2. 0.]\n",
      " [9. 3. 0. 0. 0. 6. 3. 2. 0. 7.]\n",
      " [1. 0. 8. 3. 0. 3. 0. 0. 7. 0.]] \n",
      "\n"
     ]
    }
   ],
   "source": [
    "# Implimentation of Prims: O(Elog V), KRUSKAL: (E*logE) for finding MST in an undirected graph\n",
    "# create an undirected graph in matrix form (where a---b == b---a)\n",
    "\n",
    "import numpy as np\n",
    "size = 10\n",
    "undirected_graph_matrix = np.zeros([size, size])\n",
    "probability_set = [0.5, 0.05, 0.1, 0.1, 0.03, 0.03, 0.03, 0.01, 0.1, 0.05]\n",
    "vertex_list = np.arange(0,10)\n",
    "for i in range(size): # each vertex\n",
    "    for j in range(size): # immediate connections of each vertex\n",
    "        random_weight = np.random.choice(vertex_list, p = probability_set)\n",
    "        undirected_graph_matrix[i][j] = random_weight\n",
    "        undirected_graph_matrix[j][i] = random_weight\n",
    "        if i == j:\n",
    "            undirected_graph_matrix[i][j] = 0   \n",
    "print('undirected graph')\n",
    "print(undirected_graph_matrix, '\\n')   "
   ]
  },
  {
   "cell_type": "code",
   "execution_count": 2,
   "metadata": {},
   "outputs": [
    {
     "name": "stdout",
     "output_type": "stream",
     "text": [
      "[[0, 9, 1.0], [9, 0, 1.0], [0, 1, 2.0], [1, 0, 2.0], [1, 2, 2.0], [2, 1, 2.0], [5, 7, 2.0], [6, 7, 2.0], [7, 5, 2.0], [7, 6, 2.0], [7, 8, 2.0], [8, 7, 2.0], [0, 4, 3.0], [0, 7, 3.0], [1, 3, 3.0], [1, 4, 3.0], [1, 6, 3.0], [1, 8, 3.0], [2, 5, 3.0], [3, 1, 3.0], [3, 4, 3.0], [3, 7, 3.0], [3, 9, 3.0], [4, 0, 3.0], [4, 1, 3.0], [4, 3, 3.0], [5, 2, 3.0], [5, 9, 3.0], [6, 1, 3.0], [6, 8, 3.0], [7, 0, 3.0], [7, 3, 3.0], [8, 1, 3.0], [8, 6, 3.0], [9, 3, 3.0], [9, 5, 3.0], [5, 8, 6.0], [8, 5, 6.0], [4, 6, 7.0], [6, 4, 7.0], [8, 9, 7.0], [9, 8, 7.0], [0, 2, 8.0], [2, 0, 8.0], [2, 9, 8.0], [3, 5, 8.0], [5, 3, 8.0], [5, 6, 8.0], [6, 5, 8.0], [9, 2, 8.0], [0, 8, 9.0], [8, 0, 9.0]]\n",
      "vertices: [0, 1, 2, 3, 4, 5, 6, 7, 8, 9]\n"
     ]
    }
   ],
   "source": [
    "# represent the matrix connection as an adjacency list\n",
    "\n",
    "test_matrix = undirected_graph_matrix\n",
    "adj_list = []\n",
    "for i in range(len(test_matrix)):\n",
    "    for j in range(len(test_matrix[i])):\n",
    "        if i != j and test_matrix[i][j] != 0:\n",
    "            adj_list.append([i,j, test_matrix[i][j]]) # the representation is source, target, weight as u, v, w\n",
    "print(sorted(adj_list, key = lambda x: x[2]))\n",
    "\n",
    "# view thnumber of vertices:\n",
    "V = list(set([i[0] for i in adj_list] + [i[1] for i in adj_list]))\n",
    "print('vertices:', V)"
   ]
  },
  {
   "cell_type": "code",
   "execution_count": 3,
   "metadata": {},
   "outputs": [
    {
     "name": "stdout",
     "output_type": "stream",
     "text": [
      "24.0\n",
      "10.5 µs ± 520 ns per loop (mean ± std. dev. of 7 runs, 100000 loops each)\n",
      "[[0, 5, 1.0], [1, 7, 2.0], [2, 6, 2.0], [2, 7, 2.0], [0, 6, 3.0], [1, 4, 3.0], [3, 9, 3.0], [4, 8, 3.0], [0, 3, 5.0]]\n"
     ]
    }
   ],
   "source": [
    "# Write Kruskal's Algorithm to find the MST of a given adjacency list representation of an undirected graph \n",
    "\n",
    "test_adj_list = [[0, 5, 1.0], [5, 0, 1.0], [1, 7, 2.0], [2, 6, 2.0], [2, 7, 2.0], [6, 2, 2.0], [7, 1, 2.0], \n",
    "                 [7, 2, 2.0], [0, 6, 3.0], [1, 4, 3.0], [3, 9, 3.0], [4, 1, 3.0], [4, 5, 3.0], [4, 8, 3.0], \n",
    "                 [5, 4, 3.0], [5, 6, 3.0], [6, 0, 3.0], [6, 5, 3.0], [8, 4, 3.0], [9, 3, 3.0], [0, 2, 4.0], \n",
    "                 [2, 0, 4.0], [5, 7, 4.0], [7, 5, 4.0], [0, 3, 5.0], [3, 0, 5.0], [0, 9, 8.0], [2, 8, 8.0], \n",
    "                 [3, 4, 8.0], [4, 3, 8.0], [8, 2, 8.0], [9, 0, 8.0], [5, 8, 9.0], [8, 5, 9.0]]\n",
    "\n",
    "import numpy as np\n",
    "\n",
    "class Kruskals:\n",
    "    def __init__(self, adj_list):\n",
    "        self.adj_list = sorted(adj_list, key = lambda item : item[2]) \n",
    "        self.vertices = set([i[0] for i in adj_list] + [i[1] for i in adj_list]) # 0 to 9 all the vertices\n",
    "        self.parent = np.arange(len(self.vertices))\n",
    "        self.rank = np.zeros(len(self.vertices))\n",
    "        \n",
    "    \n",
    "    def find_parent(self, u):\n",
    "        if self.parent[u] != u:\n",
    "            return self.find_parent(self.parent[u])\n",
    "        else:\n",
    "            return u\n",
    "            \n",
    "        \n",
    "    def union_by_rank(self, u, v):\n",
    "        if self.rank[u] > self.rank[v]:\n",
    "            self.parent[v] = u\n",
    "        elif self.rank[u] < self.rank[v]:\n",
    "            self.parent[u] = v\n",
    "        else:\n",
    "            self.parent[v] = u\n",
    "            self.rank[u] += 1\n",
    "            \n",
    "    def MST(self):\n",
    "        i = 0\n",
    "        self.MST_list = []\n",
    "        while len(self.MST_list) < len(self.vertices)-1 and i < len(self.adj_list):\n",
    "            u, v, w = self.adj_list[i]\n",
    "            parent_u = self.find_parent(u)\n",
    "            parent_v = self.find_parent(v)\n",
    "            if parent_u != parent_v:\n",
    "                self.MST_list.append(self.adj_list[i])\n",
    "                self.union_by_rank(parent_u,parent_v)\n",
    "            i += 1\n",
    "        return self.MST_list\n",
    "        \n",
    "        \n",
    "test_kruskals = Kruskals(test_adj_list)\n",
    "results = test_kruskals.MST()\n",
    "# print(test_kruskals.parent, test_kruskals.rank)\n",
    "# print(results)\n",
    "spt = sum([i[2] for i in results])\n",
    "print(spt)\n",
    "%timeit Kruskals(test_adj_list)\n",
    "print(results)"
   ]
  },
  {
   "cell_type": "code",
   "execution_count": 4,
   "metadata": {},
   "outputs": [
    {
     "name": "stdout",
     "output_type": "stream",
     "text": [
      "67.8 µs ± 574 ns per loop (mean ± std. dev. of 7 runs, 10000 loops each)\n",
      "24.0\n",
      "[[0, 5, 1.0], [0, 6, 3.0], [6, 2, 2.0], [2, 7, 2.0], [7, 1, 2.0], [5, 4, 3.0], [4, 8, 3.0], [0, 3, 5.0], [3, 9, 3.0]]\n"
     ]
    }
   ],
   "source": [
    "# Write Prim's Algorithm to find the MST of a given adjacency list representation of an undirected graph \n",
    "\n",
    "def prims_MST(vertex, adj_list): \n",
    "    vertices = set([i[0] for i in adj_list] + [i[1] for i in adj_list])\n",
    "    # initialize empty edges array and empty MST\n",
    "    MST = []\n",
    "    edges = []\n",
    "    visited = [vertex]\n",
    "\n",
    "    # run prims algorithm until we create an MST that contains every vertex from the graph\n",
    "    while len(MST) < len(vertices) - 1:\n",
    "        # add each edge to list of potential edges\n",
    "        for r in range(len(adj_list)): # this loop will only append the current vertex's connections. \n",
    "            edge = adj_list[r]\n",
    "            if edge[0] == vertex and edge[2] != 0:\n",
    "                edges.append(edge)\n",
    "        # find edge with the smallest weight to a vertex that has not yet been visited\n",
    "        minEdge = [None,None,np.inf]\n",
    "        for e in range(0, len(edges)):\n",
    "            if edges[e][2] < minEdge[2] and edges[e][1] not in visited:\n",
    "                minEdge = edges[e]\n",
    "                vertex = edges[e][1]\n",
    "        # mark this vertex as visited\n",
    "        visited.append(vertex)\n",
    "        # push min edge to MST\n",
    "        MST.append(minEdge)\n",
    "        # remove the used edge from the edges list\n",
    "        # edges.remove(minEdge) # unhash this line if the data is very large \n",
    "        \n",
    "    return MST \n",
    "  \n",
    "# pass the # of vertices and the graph to run prims algorithm \n",
    "%timeit prims_MST(0, test_adj_list)\n",
    "result = prims_MST(0, test_adj_list)\n",
    "spt = sum([i[2] for i in result])\n",
    "print(spt)\n",
    "print(result)"
   ]
  },
  {
   "cell_type": "markdown",
   "metadata": {},
   "source": [
    "#### Second Part: SPT Algoritms - Dijikstra & Bellman-Ford"
   ]
  },
  {
   "cell_type": "code",
   "execution_count": 5,
   "metadata": {},
   "outputs": [
    {
     "name": "stdout",
     "output_type": "stream",
     "text": [
      "[[  inf 71.52 60.28 54.49 42.37 64.59 43.76 89.18 96.37 38.34]\n",
      " [79.17   inf 56.8  92.56  7.1   8.71  2.02 83.26 77.82 87.  ]\n",
      " [97.86 79.92   inf 78.05 11.83 63.99 14.34 94.47 52.18 41.47]\n",
      " [26.46 77.42 45.62   inf  1.88 61.76 61.21 61.69 94.37 68.18]\n",
      " [35.95 43.7  69.76  6.02   inf 67.06 21.04 12.89 31.54 36.37]\n",
      " [57.02 43.86 98.84 10.2  20.89   inf 65.31 25.33 46.63 24.44]\n",
      " [15.9  11.04 65.63 13.82 19.66 36.87   inf  9.71 83.79  9.61]\n",
      " [97.65 46.87 97.68 60.48 73.93  3.92 28.28   inf 29.61 11.87]\n",
      " [31.8  41.43  6.41 69.25 56.66 26.54 52.32  9.39   inf 92.93]\n",
      " [31.86 66.74 13.18 71.63 28.94 18.32 58.65  2.01 82.89   inf]]\n"
     ]
    }
   ],
   "source": [
    "# create a random directed graph with positive connection values\n",
    "\n",
    "import numpy as np\n",
    "np.random.seed(0)\n",
    "def test_graph(n): # n vertices\n",
    "    test_graph_set = np.random.rand(n,n)*100\n",
    "    # 0 the source so that the node is acyclic to itself \n",
    "    for i in range(n):\n",
    "        test_graph_set[i][i] = np.inf\n",
    "        # test_graph_set[i][:i] = np.inf  # unmark if a tree structure is needed\n",
    "    test_graph_set = np.around(test_graph_set, decimals = 2)\n",
    "    return test_graph_set\n",
    "\n",
    "test_set = test_graph(10) \n",
    "print(test_set[:10][:10])\n"
   ]
  },
  {
   "cell_type": "code",
   "execution_count": 6,
   "metadata": {},
   "outputs": [
    {
     "name": "stdout",
     "output_type": "stream",
     "text": [
      "[ 0.   54.8  51.52 48.39 42.37 44.27 43.76 40.35 69.96 38.34]\n",
      "103 µs ± 6.55 µs per loop (mean ± std. dev. of 7 runs, 10000 loops each)\n"
     ]
    }
   ],
   "source": [
    "# write a naive DIJKSTRA's algorithm to find the SPT from a source vertex to all other vertices (O(v**2))\n",
    "\n",
    "def graph_traverse_DJ_path(graph, source): \n",
    "    distance_list = [np.inf] * len(graph)\n",
    "    visited_vertices_list = [False] * len(graph)\n",
    "    distance_list[source] = 0\n",
    "    for each_vertex in range(len(graph)):\n",
    "        min_value = np.inf\n",
    "        for i in range(len(distance_list)):\n",
    "            if distance_list[i] < min_value and visited_vertices_list[i] == False:\n",
    "                min_value = distance_list[i]\n",
    "                min_at_index = i\n",
    "        visited_vertices_list[min_at_index] = True\n",
    "        # print(min_at_index, visited_vertices_list) to view the order of vertices visited\n",
    "        for i in range(len(distance_list)):\n",
    "            if visited_vertices_list[i] == False and graph[min_at_index][i] > 0 and \\\n",
    "            distance_list[min_at_index] + graph[min_at_index][i] < distance_list[i]: \n",
    "                distance_list[i] = distance_list[min_at_index] + graph[min_at_index][i]\n",
    "    return np.around(distance_list, decimals = 2)\n",
    "\n",
    "print(graph_traverse_DJ_path(test_set, 0))\n",
    "%timeit graph_traverse_DJ_path(test_set, 0)"
   ]
  },
  {
   "cell_type": "code",
   "execution_count": 7,
   "metadata": {},
   "outputs": [
    {
     "name": "stdout",
     "output_type": "stream",
     "text": [
      "[[0, 5, 64.59], [0, 6, 43.76], [0, 7, 89.18], [0, 8, 96.37], [0, 9, 38.34], [1, 0, 79.17], [1, 1, inf], [1, 2, 56.8], [1, 3, 92.56], [1, 4, 7.1]]\n"
     ]
    }
   ],
   "source": [
    "import numpy as np\n",
    "# turn the matrix into an adjacency list\n",
    "adj_list = [[i, u, test_set[i][u]] for i in range(len(test_set)) for u in range(len(test_set))] \n",
    "# view the adjacency list\n",
    "print(adj_list[5:15])"
   ]
  },
  {
   "cell_type": "code",
   "execution_count": 8,
   "metadata": {},
   "outputs": [
    {
     "name": "stdout",
     "output_type": "stream",
     "text": [
      "[ 0.   54.8  51.52 48.39 42.37 44.27 43.76 40.35 69.96 38.34]\n",
      "694 µs ± 33.1 µs per loop (mean ± std. dev. of 7 runs, 1000 loops each)\n"
     ]
    }
   ],
   "source": [
    "# Bellman-Ford Algorithm to traverse the test graph to find the SPT\n",
    "\n",
    "def graph_bellman_ford(adj_list, source): \n",
    "    vertices = set([i[0] for i in adj_list] + [i[1] for i in adj_list])\n",
    "    # Initialize distances list from source vertex to other vertices\n",
    "    dist = [np.inf] * len(vertices)\n",
    "    # Make it acyclic to itself\n",
    "    dist[source] = 0 \n",
    "    # Loop over V-1 times and update the distance list where V is the number of vertices of the test_set (matrix)\n",
    "    for i in range(len(vertices) - 1): \n",
    "        for u, v, w in adj_list: \n",
    "            if dist[u] != np.inf and w != 0 and dist[u] + w < dist[v]: \n",
    "                dist[v] = dist[u] + w \n",
    "\n",
    "    # Check for negative-weight cycles going over it one more time to see if there is any update.  \n",
    "    for u, v, w in adj_list: \n",
    "        if dist[u] != np.inf and w != 0 and dist[u] + w < dist[v]: \n",
    "            print (\"Graph contains negative weight cycle\")\n",
    "            return\n",
    "    \n",
    "    return np.around(dist, decimals = 2)\n",
    "        \n",
    "print(graph_bellman_ford(adj_list, 0)) \n",
    "# compare naive djikstra, improved djikstra, and bellman-ford\n",
    "%timeit graph_bellman_ford(adj_list, 0) \n"
   ]
  },
  {
   "cell_type": "code",
   "execution_count": 9,
   "metadata": {},
   "outputs": [
    {
     "data": {
      "text/plain": [
       "9"
      ]
     },
     "execution_count": 9,
     "metadata": {},
     "output_type": "execute_result"
    }
   ],
   "source": [
    "# Bonus: find the shortest path with exactly k edges from s to d with Time complexity: O(E*K)\n",
    "\n",
    "import numpy as np\n",
    "test_matrix = np.array([[0,10,3,2],\n",
    "                        [0,0,0,7],\n",
    "                        [0,0,0,6],\n",
    "                        [0,0,0,0]])\n",
    "\n",
    "adj_list =[[0, 1, 10], [0, 2, 3], [0, 3, 2], [1, 3, 7], [2, 3, 6]] \n",
    "\n",
    "def shortest_path_in_k_steps(s, d, adj_list, k): # 0,1,2,3 total 4 vertices\n",
    "    vertices = set([i[0] for i in adj_list] + [i[1] for i in adj_list]) # all source and destination vertices\n",
    "    # print(vertices) # to view all vertices\n",
    "    distances = [np.inf] * (len(vertices)+1) # initialize the final distance array\n",
    "    distances[s] = 0 # initialize distance from source to source as 0\n",
    "    for i in range(k): # for the number of steps \n",
    "        dist1 = [np.inf] * len(distances) # reset distances achieved after each iteration\n",
    "        for each_conn in adj_list: \n",
    "            u, v, w = each_conn\n",
    "            if dist1[v] > distances[u] + w:\n",
    "                dist1[v] = distances[u] + w\n",
    "        # copy the best paths to distances array\n",
    "        distances = dist1\n",
    "        # print(distances) # to view the current distances \n",
    "    return distances[d]\n",
    "\n",
    "shortest_path_in_k_steps(0, 3, adj_list, 2)\n"
   ]
  }
 ],
 "metadata": {
  "kernelspec": {
   "display_name": "Python 3",
   "language": "python",
   "name": "python3"
  },
  "language_info": {
   "codemirror_mode": {
    "name": "ipython",
    "version": 3
   },
   "file_extension": ".py",
   "mimetype": "text/x-python",
   "name": "python",
   "nbconvert_exporter": "python",
   "pygments_lexer": "ipython3",
   "version": "3.7.4"
  }
 },
 "nbformat": 4,
 "nbformat_minor": 2
}
