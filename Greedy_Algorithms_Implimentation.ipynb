{
 "cells": [
  {
   "cell_type": "code",
   "execution_count": 1,
   "metadata": {},
   "outputs": [
    {
     "name": "stdout",
     "output_type": "stream",
     "text": [
      "Sat Apr 25 20:43:37 2020\n"
     ]
    }
   ],
   "source": [
    "import time\n",
    "t_start = time.asctime()\n",
    "print(t_start)"
   ]
  },
  {
   "cell_type": "markdown",
   "metadata": {},
   "source": [
    "#### Greedy Algorithms"
   ]
  },
  {
   "cell_type": "code",
   "execution_count": 2,
   "metadata": {},
   "outputs": [],
   "source": [
    "test_adj_list = [[0, 5, 1.0], [5, 0, 1.0], [1, 7, 2.0], [2, 6, 2.0], [2, 7, 2.0], [6, 2, 2.0], [7, 1, 2.0], \n",
    "                 [7, 2, 2.0], [0, 6, 3.0], [1, 4, 3.0], [3, 9, 3.0], [4, 1, 3.0], [4, 5, 3.0], [4, 8, 3.0], \n",
    "                 [5, 4, 3.0], [5, 6, 3.0], [6, 0, 3.0], [6, 5, 3.0], [8, 4, 3.0], [9, 3, 3.0], [0, 2, 4.0], \n",
    "                 [2, 0, 4.0], [5, 7, 4.0], [7, 5, 4.0], [0, 3, 5.0], [3, 0, 5.0], [0, 9, 8.0], [2, 8, 8.0], \n",
    "                 [3, 4, 8.0], [4, 3, 8.0], [8, 2, 8.0], [9, 0, 8.0], [5, 8, 9.0], [8, 5, 9.0]]\n",
    "\n",
    "import numpy as np"
   ]
  },
  {
   "cell_type": "code",
   "execution_count": 3,
   "metadata": {},
   "outputs": [
    {
     "name": "stdout",
     "output_type": "stream",
     "text": [
      "24.0\n",
      "[[0, 5, 1.0], [1, 7, 2.0], [2, 6, 2.0], [2, 7, 2.0], [0, 6, 3.0], [1, 4, 3.0], [3, 9, 3.0], [4, 8, 3.0], [0, 3, 5.0]]\n"
     ]
    }
   ],
   "source": [
    "# Write kruskal's and prim's for the adj list above to find the MST\n",
    "\n",
    "class Kruskals_MST:\n",
    "    def __init__(self, adj_list):\n",
    "        self.adj_list = sorted(adj_list, key = lambda x: x[2]) # sort the original adj list\n",
    "        self.vertices = set([i[0] for i in adj_list] + [i[1] for i in adj_list]) # all vertices in a set format\n",
    "        self.parent = np.arange(len(self.vertices))\n",
    "        self.ranking = np.zeros(len(self.vertices))\n",
    "        \n",
    "        \n",
    "    def MST(self):\n",
    "        MST_list = []\n",
    "        i = 0\n",
    "        while len(MST_list) < len(self.vertices) - 1 and i < len(self.adj_list):\n",
    "            edge = self.adj_list[i]\n",
    "            u, v, w = edge\n",
    "            if self.find_parent(u) != self.find_parent(v):\n",
    "                MST_list.append(edge)\n",
    "                self.union_by_rank(self.parent[u], self.parent[v])\n",
    "            i+= 1\n",
    "        return MST_list\n",
    "            \n",
    "            \n",
    "    def find_parent(self, vertex):\n",
    "        if self.parent[vertex] == vertex:\n",
    "            return vertex\n",
    "        else:\n",
    "            return self.find_parent(self.parent[vertex])\n",
    "        \n",
    "        \n",
    "    def union_by_rank(self, u, v):\n",
    "        if self.ranking[u] > self.ranking[v]:\n",
    "            self.parent[v] = u\n",
    "        elif self.ranking[v] > self.ranking[u]:\n",
    "            self.parent[u] = v\n",
    "        else:\n",
    "            self.parent[v] = u\n",
    "            self.ranking[u] += 1\n",
    "\n",
    "test_kruskals = Kruskals_MST(test_adj_list)        \n",
    "results = test_kruskals.MST()\n",
    "print(np.sum([i[2] for i in results]))\n",
    "print(results)\n",
    "        "
   ]
  },
  {
   "cell_type": "code",
   "execution_count": 4,
   "metadata": {},
   "outputs": [
    {
     "name": "stdout",
     "output_type": "stream",
     "text": [
      "[[0, 5, 1.0], [0, 6, 3.0], [6, 2, 2.0], [2, 7, 2.0], [7, 1, 2.0], [5, 4, 3.0], [4, 8, 3.0], [0, 3, 5.0], [3, 9, 3.0]]\n",
      "24.0\n"
     ]
    }
   ],
   "source": [
    "def prims(vertex , adj_list):\n",
    "    MST = []\n",
    "    edges = []\n",
    "    vertices = set([i[0] for i in adj_list] + [i[1] for i in adj_list])\n",
    "    visited = [vertex]\n",
    "    while len(MST) < len(vertices) - 1:\n",
    "        for i in range(len(adj_list)):\n",
    "            u, v, w = adj_list[i]\n",
    "            if u == vertex and w != 0:\n",
    "                edges.append(adj_list[i])\n",
    "            \n",
    "        min_edge = [None, None, np.inf]\n",
    "        for i in range(len(edges)):\n",
    "            if edges[i][2] < min_edge[2] and edges[i][1] not in visited:\n",
    "                min_edge = edges[i]\n",
    "                vertex = edges[i][1]\n",
    "            \n",
    "        MST.append(min_edge)    \n",
    "        visited.append(vertex)\n",
    "        edges.remove(min_edge)\n",
    "    return MST   \n",
    "            \n",
    "results = prims(0, test_adj_list)        \n",
    "print(results)  \n",
    "print(np.sum([i[2] for i in results]))"
   ]
  },
  {
   "cell_type": "code",
   "execution_count": 5,
   "metadata": {},
   "outputs": [
    {
     "name": "stdout",
     "output_type": "stream",
     "text": [
      "[[  inf 71.52 60.28 54.49 42.37 64.59 43.76 89.18 96.37 38.34]\n",
      " [79.17   inf 56.8  92.56  7.1   8.71  2.02 83.26 77.82 87.  ]\n",
      " [97.86 79.92   inf 78.05 11.83 63.99 14.34 94.47 52.18 41.47]\n",
      " [26.46 77.42 45.62   inf  1.88 61.76 61.21 61.69 94.37 68.18]\n",
      " [35.95 43.7  69.76  6.02   inf 67.06 21.04 12.89 31.54 36.37]\n",
      " [57.02 43.86 98.84 10.2  20.89   inf 65.31 25.33 46.63 24.44]\n",
      " [15.9  11.04 65.63 13.82 19.66 36.87   inf  9.71 83.79  9.61]\n",
      " [97.65 46.87 97.68 60.48 73.93  3.92 28.28   inf 29.61 11.87]\n",
      " [31.8  41.43  6.41 69.25 56.66 26.54 52.32  9.39   inf 92.93]\n",
      " [31.86 66.74 13.18 71.63 28.94 18.32 58.65  2.01 82.89   inf]]\n"
     ]
    }
   ],
   "source": [
    "# Create a directed graph to apply dijkstra's to find the SPT\n",
    "\n",
    "import numpy as np\n",
    "np.random.seed(0)\n",
    "def test_graph(n): # n vertices\n",
    "    test_graph_set = np.random.rand(n,n)*100\n",
    "    # 0 the source so that the node is acyclic to itself \n",
    "    for i in range(n):\n",
    "        test_graph_set[i][i] = np.inf\n",
    "        # test_graph_set[i][:i] = np.inf  # unmark if a tree structure is needed\n",
    "    test_graph_set = np.around(test_graph_set, decimals = 2)\n",
    "    return test_graph_set\n",
    "\n",
    "test_set = test_graph(10) \n",
    "print(test_set[:10][:10])\n",
    "graph = test_set\n"
   ]
  },
  {
   "cell_type": "code",
   "execution_count": 6,
   "metadata": {},
   "outputs": [
    {
     "data": {
      "text/plain": [
       "array([ 0.  , 54.8 , 51.52, 48.39, 42.37, 44.27, 43.76, 40.35, 69.96,\n",
       "       38.34])"
      ]
     },
     "execution_count": 6,
     "metadata": {},
     "output_type": "execute_result"
    }
   ],
   "source": [
    "# Dijkstra's algorithm to find the SPT:\n",
    "\n",
    "import numpy as np\n",
    "def dijkstras(source, graph):\n",
    "    visited = [False] * len(graph)\n",
    "    distances = [np.inf] * len(graph)\n",
    "    distances[source] = 0\n",
    "    # for all vertices do the following\n",
    "    for i in range(len(graph)):\n",
    "        min_dist = np.inf\n",
    "        # find the min distance index if it is not visited\n",
    "        for i in range(len(distances)):\n",
    "            if visited[i] == False and distances[i] < min_dist:\n",
    "                min_dist = distances[i]\n",
    "                min_at_vertex = i\n",
    "        visited[min_at_vertex] = True   \n",
    "        #print(min_at_vertex, visited)\n",
    "        # find the shortest path and save it to the distance array\n",
    "        for i in range(len(distances)):\n",
    "            if visited[i] == False and graph[min_at_vertex][i] > 0:\n",
    "                if distances[i] > graph[min_at_vertex][i] + distances[min_at_vertex]:\n",
    "                    distances[i] = graph[min_at_vertex][i] + distances[min_at_vertex]\n",
    "        \n",
    "    return np.around(distances, decimals = 2)\n",
    "    \n",
    "    \n",
    "dijkstras(0, test_set)"
   ]
  },
  {
   "cell_type": "code",
   "execution_count": 7,
   "metadata": {},
   "outputs": [
    {
     "data": {
      "text/plain": [
       "[0, 2, 5]"
      ]
     },
     "execution_count": 7,
     "metadata": {},
     "output_type": "execute_result"
    }
   ],
   "source": [
    "# Activity Selection Problem\n",
    "# Ex: Consider the following 3 activities sorted by finish time. start = {10, 12, 20} finish =  {20, 25, 30}\n",
    "# The set of activities that can be executed by one person is in these indices: {0, 2}\n",
    "\n",
    "s = [0, 1, 3, 5, 5, 8]\n",
    "f = [2, 4, 6, 7, 9, 9]\n",
    "\n",
    "def activity_selection(s , f): \n",
    "    s.sort()\n",
    "    f.sort()\n",
    "    # The first activity is always selected since we will check if s[i] > f[j] for later activites\n",
    "    activities = [0]\n",
    "    i = 0  \n",
    "    j = 0\n",
    "    n = len(s)\n",
    "    while i < n and j < n:\n",
    "        if s[i] >= f[j]: # to start a new activity, the previous activity has to be finished. \n",
    "            activities.append(i) \n",
    "            j = i \n",
    "        i += 1\n",
    "    return activities\n",
    "\n",
    "\n",
    "activity_selection(s , f) \n"
   ]
  },
  {
   "cell_type": "code",
   "execution_count": 8,
   "metadata": {},
   "outputs": [
    {
     "data": {
      "text/plain": [
       "3"
      ]
     },
     "execution_count": 8,
     "metadata": {},
     "output_type": "execute_result"
    }
   ],
   "source": [
    "# Find the Minimum Number of Platforms Required for a Railway / Bus Station\n",
    "# Inbound = {9:00, 9:40, 9:50, 11:00, 15:00, 18:00}    \n",
    "# Outbound = {9:10, 12:00, 11:20, 11:30, 19:00, 20:00}\n",
    "# Output: 3.There are at-most three trains at a time (time between 11:00 to 11:20)  \n",
    "# 9:40 train is there until 12 , 9:50 train is there until 11:20, 11:00 train is the third train entering\n",
    "\n",
    "def find_min_platform_needed(arr, dep): \n",
    "    assert(len(arr)== len(dep))\n",
    "    n = len(arr)\n",
    "    arr.sort() \n",
    "    dep.sort() \n",
    "    plat_needed = 0  # current number of platforms needed through first train to last train \n",
    "    min_platforms_needed = 0\n",
    "    i = 0\n",
    "    j = 0\n",
    "    while (i < n and j < n): \n",
    "        if (arr[i] < dep[j]): \n",
    "            plat_needed+=1\n",
    "            i+=1 \n",
    "            if (plat_needed > min_platforms_needed):  \n",
    "                 min_platforms_needed = plat_needed   \n",
    "        else: \n",
    "            plat_needed-=1\n",
    "            j+=1\n",
    "          \n",
    "    return min_platforms_needed # the minimum number of platforms to cover all these trips\n",
    "  \n",
    "# driver code \n",
    "  \n",
    "arr = [900, 940, 950, 1100, 1500, 1800] \n",
    "dep = [910, 1200, 1120, 1130, 1900, 2000] \n",
    "find_min_platform_needed(arr, dep) \n"
   ]
  },
  {
   "cell_type": "code",
   "execution_count": 9,
   "metadata": {},
   "outputs": [
    {
     "name": "stdout",
     "output_type": "stream",
     "text": [
      "2\n",
      "2\n"
     ]
    }
   ],
   "source": [
    "# Remove Minimum coins such that absolute difference between any number of coins in the piles is less than K\n",
    "# {1, 5, 1, 2, 5, 1}, there are 6 piles each containing the number of coins such as first pile has one, second five\n",
    "# find the number of coins need to be removed such that the max difference between any pile will be K=3\n",
    "# answer: remove 1 coin from two piles which are originally containing 5 coins. So, total 2 coins will suffice.\n",
    "\n",
    "def minimum_coins(array, k):\n",
    "    n = len(a)\n",
    "    total_coins_to_remove = 0  \n",
    "    smallest_coin_pile = min(a)\n",
    "    for i in range(n): \n",
    "        diff = a[i] - smallest_coin_pile\n",
    "        if (diff > k): \n",
    "            total_coins_to_remove += (diff - k) \n",
    "    return total_coins_to_remove\n",
    "  \n",
    "a = [1, 5, 1, 2, 5, 1]\n",
    "k = 3\n",
    "print(minimum_coins(a,k))\n",
    "\n",
    "\n",
    "def number_of_coins_to_shave_off(array, k):\n",
    "    min_of_the_array = min(array)\n",
    "    largest_coin_allowed = min_of_the_array + k\n",
    "    total_coins_to_be_removed = 0\n",
    "    for i in range(len(array)):\n",
    "        if array[i] > largest_coin_allowed:\n",
    "            diff = array[i] - largest_coin_allowed\n",
    "            total_coins_to_be_removed += diff  \n",
    "    return total_coins_to_be_removed\n",
    "\n",
    "print(number_of_coins_to_shave_off(a, k))"
   ]
  },
  {
   "cell_type": "code",
   "execution_count": 10,
   "metadata": {},
   "outputs": [
    {
     "name": "stdout",
     "output_type": "stream",
     "text": [
      "[1, 5, 9, 10, 12, 12, 15, 111, 200, 1000]\n",
      "6\n",
      "6\n"
     ]
    }
   ],
   "source": [
    "# how many toys can you buy with the prices cost = { 1, 12, 5, 111, 200, 1000, 10, 9, 12, 15 } with K dollars\n",
    "\n",
    "def number_of_toys_for_K_dollars(array , K):\n",
    "    count = 0\n",
    "    sum_total = 0\n",
    "    sorted_array = sorted(array)\n",
    "    for i in range(len(sorted_array)):\n",
    "        cost_of_current_item = sorted_array[i]\n",
    "        remaining_money_in_pocket = K - sum_total\n",
    "        if cost_of_current_item < remaining_money_in_pocket:\n",
    "            count += 1\n",
    "            sum_total += cost_of_current_item\n",
    "    return count\n",
    "\n",
    "test_array = [1, 12, 5, 111, 200, 1000, 10, 9, 12, 15]\n",
    "print(sorted(test_array))\n",
    "K = 50\n",
    "print(number_of_toys_for_K_dollars(test_array, K))\n",
    "        \n",
    "    \n",
    "def max_number_of_toys_for_K_dollars(array, K):\n",
    "    sorted_array = sorted(array)\n",
    "    sums = 0\n",
    "    sum_array = []\n",
    "    for i in range(len(sorted_array)):\n",
    "        sums += sorted_array[i]\n",
    "        sum_array.append(sums)\n",
    "        if sum_array[i] > K: \n",
    "            return i\n",
    "    \n",
    "print(max_number_of_toys_for_K_dollars(test_array, K))\n",
    "    "
   ]
  },
  {
   "cell_type": "code",
   "execution_count": 11,
   "metadata": {},
   "outputs": [
    {
     "data": {
      "text/plain": [
       "(5, [7, 4, 8, 8, 8, 9])"
      ]
     },
     "execution_count": 11,
     "metadata": {},
     "output_type": "execute_result"
    }
   ],
   "source": [
    "# Maximum difference if the items of the array can be increased or decreased by k units\n",
    "# Input {1, 10, 14, 14, 14, 15} , k = 6  Output: Maximum difference is 5\n",
    "\n",
    "def max_dif_in_array_with_k_add_or_subs(array, k):\n",
    "    max_val = max(array)\n",
    "    min_val = min(array)\n",
    "    if max_val - min_val < k: return\n",
    "    sorted_array = sorted(array)\n",
    "    for i in range(len(array)):\n",
    "        if min_val <= array[i] - k:  \n",
    "            array[i] -= k\n",
    "        elif max_val >= array[i] + k:\n",
    "            array[i] += k\n",
    "    return max(array) - min(array), array\n",
    "\n",
    "\n",
    "test_array = [1, 10, 14, 14, 14, 15]\n",
    "max_dif_in_array_with_k_add_or_subs(test_array, 6)\n"
   ]
  },
  {
   "cell_type": "code",
   "execution_count": 12,
   "metadata": {},
   "outputs": [
    {
     "name": "stdout",
     "output_type": "stream",
     "text": [
      "23\n"
     ]
    }
   ],
   "source": [
    "# finding the min product value of two vectors if elements of both arrays are allowed to be shuffled:\n",
    "import numpy as np\n",
    "a = np.array([3, 1, 1])\n",
    "b = np.array([6, 5, 4])\n",
    "# sort both arrays and reverse one of them to get the least value for scalar value for their multiplication.\n",
    "a_sorted = np.sort(a)\n",
    "a_rev_sorted = list(reversed(a_sorted))\n",
    "b_sorted = np.sort(sorted(b))\n",
    "print(np.dot(a_rev_sorted , b_sorted))"
   ]
  }
 ],
 "metadata": {
  "kernelspec": {
   "display_name": "Python 3",
   "language": "python",
   "name": "python3"
  },
  "language_info": {
   "codemirror_mode": {
    "name": "ipython",
    "version": 3
   },
   "file_extension": ".py",
   "mimetype": "text/x-python",
   "name": "python",
   "nbconvert_exporter": "python",
   "pygments_lexer": "ipython3",
   "version": "3.7.4"
  }
 },
 "nbformat": 4,
 "nbformat_minor": 2
}
