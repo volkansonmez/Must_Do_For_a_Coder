{
 "cells": [
  {
   "cell_type": "code",
   "execution_count": 1,
   "metadata": {},
   "outputs": [
    {
     "name": "stdout",
     "output_type": "stream",
     "text": [
      "25\n",
      "175.0\n"
     ]
    }
   ],
   "source": [
    "# Calculate GCD & LCM, greatest common divisor and least common multiple with one function.\n",
    "\n",
    "def GCD(a,b):\n",
    "    c = max(a,b)\n",
    "    d = min(a,b)\n",
    "    if d == 0: return c\n",
    "    return GCD(c%d, d)\n",
    "print(GCD(125,225))\n",
    "\n",
    "\n",
    "def LCM(a,b):\n",
    "    gcd = GCD(a,b)\n",
    "    product = a * b\n",
    "    lcm = product / gcd\n",
    "    return lcm\n",
    "\n",
    "print(LCM(35,25))"
   ]
  },
  {
   "cell_type": "code",
   "execution_count": 2,
   "metadata": {},
   "outputs": [
    {
     "name": "stdout",
     "output_type": "stream",
     "text": [
      "8\n",
      "160.0\n"
     ]
    }
   ],
   "source": [
    "# Calculate the GCD and LCM of an array of integers. \n",
    "# Take the first 2 and then call GCD function for each remaining item with an updated new gcd value in every iteration\n",
    "\n",
    "test_array = [16, 40, 32]\n",
    "\n",
    "def GCD_of_array(array):\n",
    "    n = len(array)\n",
    "    if n < 2: return array\n",
    "    gcd = GCD(array[0], array[1])\n",
    "    for i in range(2,n):\n",
    "        gcd = GCD(gcd, array[i])\n",
    "    return gcd        \n",
    "    \n",
    "    \n",
    "print(GCD_of_array(test_array)) \n",
    "\n",
    "\n",
    "def LCM_of_array(array):\n",
    "    n = len(array)\n",
    "    if n < 2: return array\n",
    "    lcm = LCM(array[0], array[1])\n",
    "    for i in range(2,n):\n",
    "        lcm = LCM(lcm, array[i])\n",
    "    return lcm\n",
    "\n",
    "print(LCM_of_array(test_array))\n"
   ]
  },
  {
   "cell_type": "code",
   "execution_count": 3,
   "metadata": {},
   "outputs": [
    {
     "name": "stdout",
     "output_type": "stream",
     "text": [
      "0.2999999999999923\n",
      "0.3\n"
     ]
    }
   ],
   "source": [
    "# Calculate GCD of floating numbers\n",
    "\n",
    "import numpy as np \n",
    "def gcd_floating_numbers(a,b) : \n",
    "    c = max(a,b)\n",
    "    d = min(a,b)\n",
    "    if d < 0.0001: return c\n",
    "    return gcd_floating_numbers(c-d, d)\n",
    "\n",
    "a = 1.20\n",
    "b = 22.5\n",
    "result = gcd_floating_numbers(a, b)\n",
    "print(result)\n",
    "print(np.around(result, decimals = 3))"
   ]
  },
  {
   "cell_type": "code",
   "execution_count": 4,
   "metadata": {},
   "outputs": [
    {
     "name": "stdout",
     "output_type": "stream",
     "text": [
      "7\n"
     ]
    }
   ],
   "source": [
    "# Find largest subsequence having GCD that is greater than 1 with O(n * max(arr[i]))\n",
    "\n",
    "def largest_GCD_Subsequence(arr): \n",
    "    n = len(arr)\n",
    "    max_count = 0\n",
    "    max_item = max(arr)\n",
    "    for i in range(2, max_item + 1): # for each value from 2 to the max value of array, check all items of the array\n",
    "        count = 0\n",
    "        for j in range(n): # for each value, find the maximum possible divisor bigger than 1 for all values \n",
    "            if (arr[j] % i == 0): \n",
    "                count += 1\n",
    "        if max_count < count:\n",
    "            max_count = count\n",
    "  \n",
    "    return max_count \n",
    "\n",
    "arr = [8, 12, 3, 6, 2, 5, 7, 4, 10, 20, 1] \n",
    "size = len(arr) \n",
    "print(largest_GCD_Subsequence(arr)) "
   ]
  },
  {
   "cell_type": "code",
   "execution_count": 5,
   "metadata": {},
   "outputs": [
    {
     "data": {
      "text/plain": [
       "[3, 3, 5, 7]"
      ]
     },
     "execution_count": 5,
     "metadata": {},
     "output_type": "execute_result"
    }
   ],
   "source": [
    "# Print all prime factors of a given number\n",
    "\n",
    "import numpy as np\n",
    "def print_prime_factors(n): \n",
    "    # check every number dividing n between 2, square root of n. \n",
    "    # create a list and append every number dividing n\n",
    "    list_of_prime_factors = []\n",
    "    sqrt_of_n = int(np.sqrt(n))   \n",
    "    for i in range(2, sqrt_of_n+1): \n",
    "        while n % i == 0 and n > 1: \n",
    "            list_of_prime_factors.append(i) \n",
    "            n = n / i \n",
    "              \n",
    "    # if n is a prime number greater than 2, add it to the list\n",
    "    if n > 2: \n",
    "        list_of_prime_factors.append(n) \n",
    "        \n",
    "    return list_of_prime_factors\n",
    "\n",
    "print_prime_factors(315) "
   ]
  },
  {
   "cell_type": "code",
   "execution_count": 6,
   "metadata": {},
   "outputs": [
    {
     "data": {
      "text/plain": [
       "True"
      ]
     },
     "execution_count": 6,
     "metadata": {},
     "output_type": "execute_result"
    }
   ],
   "source": [
    "# Fermat test to check if a number is prime\n",
    "\n",
    "def fermat_test(n):\n",
    "    # check if n is an even number\n",
    "    if n % 2 == 0:\n",
    "        return False\n",
    "    # a is a natural number between 1, to n-1. \n",
    "    # if a**p-1 in mod p is always 1 for all values of a, then p is prime\n",
    "    for i in range(2, n-1):\n",
    "        if ((i**(n-1)) % n) != 1:\n",
    "            return False\n",
    "    return True\n",
    "    \n",
    "# for i in range(3,20):\n",
    "#    print(i, fermat_test(i))  \n",
    "    \n",
    "fermat_test(317)"
   ]
  },
  {
   "cell_type": "code",
   "execution_count": 7,
   "metadata": {},
   "outputs": [
    {
     "name": "stdout",
     "output_type": "stream",
     "text": [
      "[ 0  1  1  2  3  5  8 13 21 34 55]\n"
     ]
    },
    {
     "data": {
      "text/plain": [
       "55"
      ]
     },
     "execution_count": 7,
     "metadata": {},
     "output_type": "execute_result"
    }
   ],
   "source": [
    "# Show fibonacchi numbers\n",
    "\n",
    "def fibonacchi(n):\n",
    "    # create an array\n",
    "    dp = np.zeros(n+1,dtype = int)\n",
    "    dp[1] = 1\n",
    "    # fill the array with the fib sequence a, b = b, a+b\n",
    "    for i in range(2, n+1):\n",
    "        dp[i] = dp[i-1] + dp[i-2]\n",
    "    print(dp)\n",
    "    return dp[n]\n",
    "\n",
    "fibonacchi(10)"
   ]
  },
  {
   "cell_type": "code",
   "execution_count": 8,
   "metadata": {},
   "outputs": [
    {
     "data": {
      "text/plain": [
       "12"
      ]
     },
     "execution_count": 8,
     "metadata": {},
     "output_type": "execute_result"
    }
   ],
   "source": [
    "# Enter a number to sum up its digits\n",
    "\n",
    "def sum_up_digits(n):\n",
    "    if n < 10 : return n\n",
    "    string_n = str(n)\n",
    "    total = 0\n",
    "    for i in string_n:\n",
    "        int_i = int(i)\n",
    "        total += int_i\n",
    "    return total\n",
    "\n",
    "sum_up_digits(3225)\n",
    "    "
   ]
  },
  {
   "cell_type": "code",
   "execution_count": 9,
   "metadata": {},
   "outputs": [
    {
     "data": {
      "text/plain": [
       "8"
      ]
     },
     "execution_count": 9,
     "metadata": {},
     "output_type": "execute_result"
    }
   ],
   "source": [
    "# Modular multiplicative inverse\n",
    "# a x ≡ 1 (mod m) condition: if a and m are relatively prime where gcd(a,m) = 1\n",
    "# Ex if a = 4, m = 11 multiplicative inverse of 4 in mod m is 3.\n",
    "\n",
    "# Fermat's theorem to find the primality:   a**(m-1) ≡ 1 (mod m) \n",
    "# which means 1 = a**(m-1) mod m. Multiply both sides by a**-1 =>  a**-1 = a**(m-2) mod m \n",
    "# a inverse can be obtained a to the power of m-2 in mod m\n",
    "\n",
    "# if an only if both a and m are prime, the function will find the inverse of a in mod m\n",
    "def modular_multiplicative_inverse(a,m):\n",
    "    check_a = fermat_test(a)\n",
    "    check_m = fermat_test(m)\n",
    "    if check_a and check_m:\n",
    "        mni = (a**(m-2)) % m \n",
    "    return mni\n",
    "modular_multiplicative_inverse(7,11)\n"
   ]
  },
  {
   "cell_type": "markdown",
   "metadata": {},
   "source": [
    "#### the exponentiation property of modular arithmetic:\n",
    "A^B mod C = ( (A mod C)^B ) mod C\n",
    "#### multiplication property of modular arithmetic:\n",
    "(A * B) mod C = (A mod C * B mod C) mod C\n",
    "#### bonus:\n",
    "(A / B) mod C = (A mod (B*C)) / mod B \n",
    "\n"
   ]
  },
  {
   "cell_type": "code",
   "execution_count": 10,
   "metadata": {},
   "outputs": [
    {
     "name": "stdout",
     "output_type": "stream",
     "text": [
      "300820513\n"
     ]
    }
   ],
   "source": [
    "# Multiply long integers with modular division\n",
    "# Theory 1: a mod(D) = (x1*x2*x3…….xn) each x individually in mod(D) \n",
    "# Theory 2: (a/b) % mod p is (a % mod(p*b)) / b \n",
    "\n",
    "\n",
    "# Calculate: (51827 * 75022 *  91553 * 49252 * 872299) / 120) % 1000000007 =?\n",
    "test_array = [51827 , 75022 ,  91553 , 49252 , 872299]\n",
    "test_array2 = [55555 , 55554 , 55553 , 55552 , 55551]\n",
    "\n",
    "ans = 1\n",
    "mod = 1000000007 * 120  \n",
    "for i in test_array2: \n",
    "    ans = (ans * i) % mod  \n",
    "    # ans *= (i % mod)\n",
    "ans = int(ans/120) # since we made the calculation on (mod * 120), we need the answer in original mod value.\n",
    "print(ans)"
   ]
  },
  {
   "cell_type": "code",
   "execution_count": 11,
   "metadata": {},
   "outputs": [
    {
     "data": {
      "text/plain": [
       "20.0"
      ]
     },
     "execution_count": 11,
     "metadata": {},
     "output_type": "execute_result"
    }
   ],
   "source": [
    "def binomial_coef(a,b):\n",
    "    if b >= a: \n",
    "        a, b = b, a\n",
    "    nom = 1\n",
    "    denom = 1\n",
    "    for i in range(a-b+1,a+1):\n",
    "        nom *= i\n",
    "    for j in range(1,b+1):\n",
    "        denom *= j\n",
    "    return nom/denom\n",
    "\n",
    "binomial_coef(6,3)\n",
    "    "
   ]
  },
  {
   "cell_type": "code",
   "execution_count": 12,
   "metadata": {},
   "outputs": [
    {
     "name": "stdout",
     "output_type": "stream",
     "text": [
      "[[ 1  0  0  0  0  0  0]\n",
      " [ 1  1  0  0  0  0  0]\n",
      " [ 1  2  1  0  0  0  0]\n",
      " [ 1  3  3  1  0  0  0]\n",
      " [ 1  4  6  4  1  0  0]\n",
      " [ 1  5 10 10  5  1  0]\n",
      " [ 1  6 15 20 15  6  1]]\n"
     ]
    },
    {
     "data": {
      "text/plain": [
       "20"
      ]
     },
     "execution_count": 12,
     "metadata": {},
     "output_type": "execute_result"
    }
   ],
   "source": [
    "# Theory: C(n, k) = C(n-1, k-1) + C(n-1, k) calculated dynamically given C(n, 0) = C(n, n) = 1\n",
    "\n",
    "def binomial_coef_table(n,k): # Binomial Coefficient table is pascal table!\n",
    "    dp = np.zeros([n+1,k+1], dtype = int)\n",
    "    dp[:, 0] = 1\n",
    "    for i in range(1, n+1):\n",
    "        for j in range(1, k+1):\n",
    "            if i == j:\n",
    "                dp[i][j] = 1\n",
    "            else:\n",
    "                dp[i][j] = dp[i-1][j-1] + dp[i-1][j]\n",
    "    print(dp)\n",
    "    return dp[6][3]\n",
    "    \n",
    "    \n",
    "binomial_coef_table(6,6)   \n",
    "    \n",
    "    "
   ]
  },
  {
   "cell_type": "code",
   "execution_count": 13,
   "metadata": {},
   "outputs": [
    {
     "name": "stdout",
     "output_type": "stream",
     "text": [
      "4862.0\n"
     ]
    }
   ],
   "source": [
    "# Compute Catalan Numbers \n",
    "# Catalan number(n) = 1/(n+1) * binomial_coef(2n, n)\n",
    "\n",
    "catalan_9 = binomial_coef(2*9, 9) / 10\n",
    "print(catalan_9)\n"
   ]
  },
  {
   "cell_type": "code",
   "execution_count": 14,
   "metadata": {},
   "outputs": [
    {
     "data": {
      "text/plain": [
       "([<matplotlib.lines.Line2D at 0x7f9222e31dd0>],\n",
       " array([ 20000.  ,  36000.  ,  56800.  ,  83840.  , 118992.  , 164689.6 ,\n",
       "        224096.48, 301325.42, 401723.05, 532239.97]),\n",
       " 532239.97)"
      ]
     },
     "execution_count": 14,
     "metadata": {},
     "output_type": "execute_result"
    },
    {
     "data": {
      "image/png": "[encoded data removed]",
      "text/plain": [
       "<Figure size 432x288 with 1 Axes>"
      ]
     },
     "metadata": {
      "needs_background": "light"
     },
     "output_type": "display_data"
    }
   ],
   "source": [
    "# Calculate the investment growth with a regular income and regular interest for over n years.\n",
    "\n",
    "import matplotlib.pyplot as plt\n",
    "import numpy as np\n",
    "%matplotlib inline\n",
    "\n",
    "# you bring an **initial investment** to your fidelity account at year 0\n",
    "# there is exactly **net interest** net profit from stocks every year after taxes. Ex: value 0.2 means 20 percent. \n",
    "# you bring fresh money into the investment account every year from your paycheks or other businesses\n",
    "# what is the value of your money going to be in ** years ** starting from this year?\n",
    "\n",
    "import numpy as np\n",
    "import matplotlib.pyplot as plt\n",
    "\n",
    "def value_in_10_years(initial_investment, net_interest, new_amount_added_each_year, years):\n",
    "    memo = np.zeros(years)\n",
    "    memo[0] = initial_investment # at year 0\n",
    "    for i in range(1, years):\n",
    "        memo[i] = ((1 + net_interest))*memo[i-1] + new_amount_added_each_year\n",
    "    return plt.plot(np.arange(years), memo) , np.around(memo, decimals = 2), np.around(memo[years-1], decimals = 2)\n",
    "\n",
    "value_in_10_years(20000, 0.30, 10000, 10) \n",
    "\n",
    "# In 10 years, you will have half a million dollars. \n",
    "    "
   ]
  },
  {
   "cell_type": "code",
   "execution_count": 15,
   "metadata": {},
   "outputs": [
    {
     "name": "stdout",
     "output_type": "stream",
     "text": [
      "['ab', 'cd', 'AB', 'CD']\n",
      "[5, 7, 10, 10, 14, 20]\n"
     ]
    }
   ],
   "source": [
    "# Reminder that if you keep appending its items to a list, it will go infinity. Make sure to use [:].\n",
    "# If not, complexity is infinity. This is a very important thing to pay attention in making some array calculations. \n",
    "\n",
    "x = ['ab', 'cd']\n",
    "for i in x[:]:\n",
    "    x.append(i.upper())\n",
    "print(x)\n",
    "\n",
    "x = [5, 7, 10]\n",
    "for i in x[:]:\n",
    "    x.append(i*2)\n",
    "print(x)"
   ]
  },
  {
   "cell_type": "code",
   "execution_count": 16,
   "metadata": {},
   "outputs": [],
   "source": [
    "# Show the relationship between Dot and Cross Product of 2 vectors:\n",
    "\n",
    "# Dot Product is the vector multiplication in each dimention:\n",
    "# A = 3 * i + 5 * j + 4 * k    B = 2 * i + 7 * j + 5 * k\n",
    "# dot product A.B = 3 * 2 + 5 * 7 + 4 * 5  = 61\n",
    "\n",
    "\n",
    "# Cross Product of 2 vectors is the determinant of 3x3 vector:\n",
    "# cross product = (a2 * b3 – a3 * b2) * i + (a3 * b1 – a1 * b3) * j + (a1 * b2 – a2 * b1) * k\n",
    "# [i j k]\n",
    "# [3 5 4]\n",
    "# [2 7 5]\n",
    "\n",
    "\n",
    "# The cross product and the dot product are related by:\n",
    "# ||AxB||**2 = ||A|| * ||B|| - (A.B)**2 \n",
    "# Where A.B is ||A|| * ||B|| * cosTETHA\n",
    "# using (sinTETHA)**2 = 1 - cosTETHA**2\n",
    "# So, ||AxB|| = ||A|| * ||B|| * sinTETHA"
   ]
  },
  {
   "cell_type": "code",
   "execution_count": null,
   "metadata": {},
   "outputs": [],
   "source": []
  }
 ],
 "metadata": {
  "kernelspec": {
   "display_name": "Python 3",
   "language": "python",
   "name": "python3"
  },
  "language_info": {
   "codemirror_mode": {
    "name": "ipython",
    "version": 3
   },
   "file_extension": ".py",
   "mimetype": "text/x-python",
   "name": "python",
   "nbconvert_exporter": "python",
   "pygments_lexer": "ipython3",
   "version": "3.7.7"
  }
 },
 "nbformat": 4,
 "nbformat_minor": 2
}
