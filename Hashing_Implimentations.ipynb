{
 "cells": [
  {
   "cell_type": "code",
   "execution_count": 1,
   "metadata": {},
   "outputs": [],
   "source": [
    "# Hashing Implimentations for Coding Interviews"
   ]
  },
  {
   "cell_type": "code",
   "execution_count": 2,
   "metadata": {},
   "outputs": [
    {
     "name": "stdout",
     "output_type": "stream",
     "text": [
      "{9: 2, 5: 3, 1: 4, 6: 1}\n",
      "[(6, 1), (9, 2), (5, 3), (1, 4)]\n"
     ]
    },
    {
     "data": {
      "text/plain": [
       "[1, 1, 1, 1, 5, 5, 5, 9, 9, 6]"
      ]
     },
     "execution_count": 2,
     "metadata": {},
     "output_type": "execute_result"
    }
   ],
   "source": [
    "# Sorting elements by their frequency \n",
    "# Example  Input: [9, 5, 9, 1, 5, 5, 6, 1, 1, 1]  Output: [1, 1, 1, 1, 5, 5, 5, 9, 9, 6]\n",
    "\n",
    "def sort_by_freq(array):\n",
    "    a_dict = {}\n",
    "    for i in array:\n",
    "        if i in a_dict.keys():\n",
    "            a_dict[i] += 1\n",
    "        else:\n",
    "            a_dict[i] = 1\n",
    "    print(a_dict) # to view\n",
    "    sorted_dict_by_val = sorted(a_dict.items(), key = lambda x: x[1])\n",
    "    print(sorted_dict_by_val)\n",
    "    output = []\n",
    "    for i in range(len(sorted_dict_by_val)):\n",
    "        each_tuple = sorted_dict_by_val[i]\n",
    "        k, v = each_tuple\n",
    "        for j in range(v):\n",
    "            output.insert(0, k)\n",
    "\n",
    "    return output\n",
    "    \n",
    "test_array = [9, 5, 9, 1, 5, 5, 6, 1, 1, 1]\n",
    "sort_by_freq(test_array)"
   ]
  },
  {
   "cell_type": "code",
   "execution_count": 3,
   "metadata": {},
   "outputs": [
    {
     "data": {
      "text/plain": [
       "[9, 5, -9, -5]"
      ]
     },
     "execution_count": 3,
     "metadata": {},
     "output_type": "execute_result"
    }
   ],
   "source": [
    "# longest sub-array with 0 sum\n",
    "# input: [3, 9, 5, -9, -5, 5, 6, 1, -1, 1]  output: [9,5,-9,-5]\n",
    "\n",
    "def longest_sub_array_w_0_sum(array):\n",
    "    if len(array) == 0: return\n",
    "    if len(array) == 1: return array\n",
    "    # calculate the sum starting from first index and check if that sum is seen twice\n",
    "    # mark the longest one and return the items of the longest sub-array with zero sum\n",
    "    sum_array = []\n",
    "    total = 0\n",
    "    longest = 0\n",
    "    for i in range(len(array)):\n",
    "        total += array[i]\n",
    "        sum_array.append(total)\n",
    "        if total in sum_array:\n",
    "            mark_seen_first = sum_array.index(total) \n",
    "            mark_seen_second = i\n",
    "            length = mark_seen_second - mark_seen_first\n",
    "            if length > longest:\n",
    "                longest = length\n",
    "                mark_longest_start = mark_seen_first\n",
    "                mark_longest_end = mark_seen_second\n",
    "    return array[mark_longest_start+1 : mark_longest_end+1]\n",
    "    \n",
    "longest_sub_array_w_0_sum([3, 9, 5, -9, -5, 5, 6, 1, -1, 1]) \n",
    "    \n",
    "    \n",
    "    "
   ]
  },
  {
   "cell_type": "code",
   "execution_count": 4,
   "metadata": {},
   "outputs": [
    {
     "name": "stdout",
     "output_type": "stream",
     "text": [
      "[20, 80]\n",
      "dict_items([(20, 'common'), (80, 'common')])\n"
     ]
    }
   ],
   "source": [
    "# find common elements in 3 sorted array\n",
    "\n",
    "arr1 = [1, 5, 10, 20, 40, 80]\n",
    "arr2 = [6, 7, 20, 80, 100]\n",
    "arr3 = [3, 4, 15, 20, 30, 70, 80, 120]\n",
    "\n",
    "def common_elements(arr1,arr2,arr3):\n",
    "    n = len(arr1)\n",
    "    m = len(arr2)\n",
    "    p = len(arr3)\n",
    "    i, j, k = 0, 0, 0\n",
    "    common_elements_array = []\n",
    "    while i < n and j < m and k < p:\n",
    "        if arr1[i] == arr2[j] == arr3[k]:\n",
    "            common_elements_array.append(arr1[i])\n",
    "            i += 1\n",
    "            j += 1\n",
    "            k += 1\n",
    "        # find the array with the minimum element and move the index up by one\n",
    "        elif arr1[i] < arr2[j] and arr1[i] < arr3[k]:\n",
    "            i += 1\n",
    "        elif arr2[j] < arr1[i] and arr2[j] < arr3[k]:\n",
    "            j += 1\n",
    "        else:\n",
    "            k += 1\n",
    "        \n",
    "    return common_elements_array    \n",
    "    \n",
    "print(common_elements(arr1,arr2,arr3))\n",
    "        \n",
    "    \n",
    "# do it by storing in a dictionary:\n",
    "\n",
    "a_dict = {}\n",
    "n = len(arr1)\n",
    "m = len(arr2)\n",
    "p = len(arr3)\n",
    "i, j, k = 0, 0, 0\n",
    "while i < n and j < m and k < p:\n",
    "    if arr1[i] == arr2[j] == arr3[k]:\n",
    "        a_dict[arr1[i]] = 'common'\n",
    "        i += 1\n",
    "        j += 1\n",
    "        k += 1\n",
    "    else:\n",
    "        if arr1[i] < arr2[j] and arr1[i] < arr3[k]:\n",
    "            i += 1\n",
    "        elif arr2[j] < arr1[i] and arr2[j] < arr3[k]:\n",
    "            j += 1\n",
    "        else:\n",
    "            k += 1 \n",
    "\n",
    "print(a_dict.items())\n",
    "        \n"
   ]
  },
  {
   "cell_type": "code",
   "execution_count": 5,
   "metadata": {},
   "outputs": [
    {
     "name": "stdout",
     "output_type": "stream",
     "text": [
      "[[10, 2, 3, 8], [10, 2, 4, 7], [2, 4, 9, 8], [2, 5, 9, 7], [3, 4, 9, 7], [3, 5, 7, 8]]\n",
      "[[2, 3, 10, 8], [2, 4, 10, 7], [2, 7, 10, 4], [2, 8, 10, 3], [4, 7, 3, 9], [9, 7, 3, 4]]\n"
     ]
    }
   ],
   "source": [
    "# A sorting based solution to print all combination of 4 elements in A[] with sum equal to X.  \n",
    "# Naive solution is O**4 and hasining solution is O**2\n",
    "\n",
    "# Naive\n",
    "test_array = [10, 2, 3, 4, 5, 9, 7, 8] \n",
    "test_target = 23\n",
    "def find_4_elements_equal_to_target(array, target): \n",
    "    n = len(array)\n",
    "    results = []\n",
    "    for i in range(0,n-3): \n",
    "        for j in range(i+1,n-2): \n",
    "            for k in range(j+1,n-1): \n",
    "                for l in range(k+1,n): \n",
    "                    if array[i] + array[j] + array[k] + array[l] == target:\n",
    "                        results.append([array[i], array[j], array[k], array[l]])\n",
    "    return results\n",
    "\n",
    "print(find_4_elements_equal_to_target(test_array, test_target))\n",
    "\n",
    "\n",
    "# Hashing solutions (ATTN: there are some repetitions and missing solutions in the results)\n",
    "def find_4_elements_equal_to_target_with_hashing(array, target):  \n",
    "    n = len(array)\n",
    "    a_dict = {}\n",
    "    results = []\n",
    "    for i in range(len(array)):\n",
    "        for j in range(i, len(array)):\n",
    "            sum_of_two = array[i] + array[j]\n",
    "            if target-sum_of_two in a_dict.keys():\n",
    "                remaining_indices = a_dict[target-sum_of_two]\n",
    "                if i not in remaining_indices and j not in remaining_indices and i != j and \\\n",
    "                                                                remaining_indices[0] != remaining_indices[1]:\n",
    "                    results.append([array[i],array[j], array[remaining_indices[0]], array[remaining_indices[1]]]) \n",
    "            else:\n",
    "                a_dict[sum_of_two] = (i,j)\n",
    "            \n",
    "    return results \n",
    "\n",
    "print(find_4_elements_equal_to_target_with_hashing(test_array, test_target))\n"
   ]
  },
  {
   "cell_type": "code",
   "execution_count": 6,
   "metadata": {},
   "outputs": [
    {
     "name": "stdout",
     "output_type": "stream",
     "text": [
      "11 15\n",
      "(4, 6)\n",
      "(1, 3)\n",
      "(1, 3)\n"
     ]
    }
   ],
   "source": [
    "# Find a pair of elements to swap between two arrays, so that the sum of two arrays are going to be the same\n",
    "\n",
    "# Naive solution O(n*m):\n",
    "def findswapitems(A,B): \n",
    "    # Calculation if sums from both lists \n",
    "    sum1=sum(A) \n",
    "    sum2=sum(B)\n",
    "    for i in A: \n",
    "        for j in B: \n",
    "            newsum1=sum1-i+j \n",
    "            newsum2=sum2-j+i   \n",
    "            if newsum1 == newsum2: \n",
    "                return i, j\n",
    "\n",
    "test_a = [4,1,2,1,1,2] \n",
    "test_b = [3,6,3,3]\n",
    "print(sum(test_a) , sum(test_b)) # move 6 in B to A and move 4 in A to B \n",
    "print(findswapitems(test_a , test_b))\n",
    "\n",
    "# Better solution (O(nlog(n) + mlog(m))):\n",
    "def findswapitems2(A,B): \n",
    "    # check if it is swappable\n",
    "    sum1 = sum(A)\n",
    "    sum2 = sum(B)\n",
    "    target = (sum1 - sum2)/2\n",
    "    A.sort() \n",
    "    B.sort() \n",
    "    i,j=0,0\n",
    "    while(i<len(A) and j<len(B)): \n",
    "        diff = A[i]-B[j] \n",
    "        if diff == target: \n",
    "            return A[i], B[j] \n",
    "        elif diff <target: \n",
    "            i+=1\n",
    "        else: \n",
    "            j+=1\n",
    "\n",
    "print(findswapitems2(test_a,test_b))\n",
    "\n",
    "# Best Solution with Hashing O(m+n):\n",
    "def findswapitems3(A,B):\n",
    "    sum_a = sum(A)\n",
    "    sum_b = sum(B)\n",
    "    # normally it is better to take the smaller array to create a dictionary \n",
    "    a_dict = {}\n",
    "    for i in A:\n",
    "        a_dict[i] = 'A'\n",
    "    diff = (sum_a - sum_b)/2\n",
    "    for i in range(len(B)):\n",
    "        value_to_search = int(B[i] + diff)\n",
    "        if value_to_search in a_dict.keys():\n",
    "            return value_to_search , B[i]\n",
    "        \n",
    "\n",
    "print(findswapitems3(test_a, test_b))\n"
   ]
  },
  {
   "cell_type": "code",
   "execution_count": 7,
   "metadata": {},
   "outputs": [
    {
     "data": {
      "text/plain": [
       "[3, 4, 4, 3]"
      ]
     },
     "execution_count": 7,
     "metadata": {},
     "output_type": "execute_result"
    }
   ],
   "source": [
    "# Count distinct elements in every window of size k, sliding it from left to right\n",
    "\n",
    "def count_distinct_elements(arr, k): \n",
    "    # find the number of items seen for each item in the window of length k, starting from index 0\n",
    "    total_unique_items = []\n",
    "    n = len(arr)\n",
    "    mp = {}\n",
    "    dist_count = 0\n",
    "    for i in range(k): \n",
    "        if arr[i] in mp:\n",
    "            mp[arr[i]] += 1 \n",
    "        else:\n",
    "            mp[arr[i]] = 1\n",
    "      \n",
    "    current_unique_items = len(mp)\n",
    "    total_unique_items.append(current_unique_items)\n",
    "    \n",
    "    # Traverse through the remaining array \n",
    "    # add or increase the value of the new item and remove or decrease the value of the old item\n",
    "    for i in range(k, n): \n",
    "        # slide the window to right for one step:\n",
    "        # remove the old element from dictionary if it is only seen once so far\n",
    "        n = mp.get(arr[i-k])\n",
    "        if n == 1:\n",
    "            del mp[arr[i-k]]\n",
    "        # if old element has been seen a few times in the window k, then lower its value\n",
    "        if n > 1:\n",
    "            mp[arr[i-k]] -= 1\n",
    "\n",
    "        # add the new element if it has not been seen before\n",
    "        if arr[i] not in mp.keys():\n",
    "            mp[arr[i]] = 1\n",
    "        # increase the value of the new element since it is seen before\n",
    "        else:\n",
    "            mp[arr[i]] += 1\n",
    "        \n",
    "        total_unique_items.append(len(mp)) \n",
    "\n",
    "    return total_unique_items        \n",
    "            \n",
    "test_arr = [1, 2, 1, 3, 4, 2, 3] \n",
    "k = 4\n",
    "count_distinct_elements(test_arr,k) "
   ]
  },
  {
   "cell_type": "code",
   "execution_count": 8,
   "metadata": {},
   "outputs": [
    {
     "data": {
      "text/plain": [
       "5"
      ]
     },
     "execution_count": 8,
     "metadata": {},
     "output_type": "execute_result"
    }
   ],
   "source": [
    "# Count the number of pairs in array whose sum is divisible by k\n",
    "\n",
    "def number_of_sum_of_pairs_div_by_K(array, k):\n",
    "    n = len(array)\n",
    "    hash_table = {}\n",
    "    sum_of_pairs_div_by_k = 0\n",
    "    \n",
    "    # store the remainder of each item in the array to the hash table with keys in mod k\n",
    "    for i in array:\n",
    "        rem = i % k\n",
    "        if rem in hash_table.keys():\n",
    "            hash_table[rem] += 1\n",
    "        else:\n",
    "            hash_table[rem] = 1\n",
    "            \n",
    "    # if k is even, check out the number of items that yield k/2, then sum up all those pairs\n",
    "    if k % 2 == 0: \n",
    "        mid_k = hash_table.get(k//2) // 2\n",
    "        sum_of_pairs_div_by_k += mid_k\n",
    "        \n",
    "    # add the pairs that are already divisable by k (all pairs at zero remainder)\n",
    "    if hash_table.get(0) != None:\n",
    "        zero_remainder_items = hash_table.get(0) // 2\n",
    "        sum_of_pairs_div_by_k += zero_remainder_items\n",
    "    \n",
    "    # starting from index 1 to index k-1 and moving to the middle, find out how many matches can be made by\n",
    "    # sum up the multiplication of the number of items in the both sides of the array until reaching the middle index\n",
    "    i = 1\n",
    "    j = len(hash_table) -1\n",
    "    while i <= j:\n",
    "        if hash_table.get(i) != None and hash_table.get(j) != None:\n",
    "            number_of_items_at_i = hash_table.get(i)\n",
    "            number_of_items_at_j = hash_table.get(j)\n",
    "            combinations_of_two = number_of_items_at_i * number_of_items_at_j\n",
    "            sum_of_pairs_div_by_k += combinations_of_two\n",
    "            i += 1\n",
    "            j -= 1\n",
    "        \n",
    "    return sum_of_pairs_div_by_k\n",
    "\n",
    "test_array = [2, 2, 1, 7, 5, 3] \n",
    "number_of_sum_of_pairs_div_by_K(test_array, 4)   \n",
    "    \n",
    "    "
   ]
  },
  {
   "cell_type": "code",
   "execution_count": 9,
   "metadata": {},
   "outputs": [
    {
     "name": "stdout",
     "output_type": "stream",
     "text": [
      "4\n",
      "4\n"
     ]
    }
   ],
   "source": [
    "# Find longest consecutive subsequence in an array\n",
    "\n",
    "import numpy as np\n",
    "test_array = [1, 9, 3, 10, 4, 20, 2] # answer: 4 with numbers 1,2,3,4\n",
    "\n",
    "# Naive method:\n",
    "def lcsubs(array):\n",
    "    sorted_array = np.sort(array)\n",
    "    longest_cons_subs = 1\n",
    "    length = 1 \n",
    "    for i in range(1, len(sorted_array)):\n",
    "        if sorted_array[i] == 1 + sorted_array[i-1]:\n",
    "            length += 1\n",
    "            if length > longest_cons_subs:\n",
    "                longest_cons_subs = length\n",
    "        else:\n",
    "            length = 0\n",
    "    return longest_cons_subs\n",
    "\n",
    "print(lcsubs(test_array))\n",
    "            \n",
    "\n",
    "# Hashing method:\n",
    "def longest_cons_subs(array):\n",
    "    n = len(array)\n",
    "    s = set() \n",
    "    max_length = 0\n",
    "    length = 0\n",
    "    \n",
    "    # Hash all the array elements into a set\n",
    "    for each_item in array: \n",
    "        s.add(each_item) \n",
    "        \n",
    "    # go over each element, find the starting element, reset the length, check each item coming after that element\n",
    "    for i in range(n): \n",
    "        if (array[i]-1) not in s: # to find the starting element array[i], confirm if array[i]-1 has not been seen\n",
    "            element_of_seq = array[i] \n",
    "            length = 0\n",
    "            while element_of_seq in s: # while the next element is in the set, increase the length by one \n",
    "                element_of_seq +=1\n",
    "                length += 1\n",
    "                if length > max_length:\n",
    "                    max_length = length\n",
    "            \n",
    "    return max_length\n",
    "    \n",
    "print(longest_cons_subs(test_array))"
   ]
  },
  {
   "cell_type": "code",
   "execution_count": 10,
   "metadata": {},
   "outputs": [
    {
     "name": "stdout",
     "output_type": "stream",
     "text": [
      "True\n",
      "True\n"
     ]
    }
   ],
   "source": [
    "# Find if an array is a subset of another array:\n",
    "\n",
    "# Naive Implimentation with O(nlogn) complexity:\n",
    "def check_if_arr2_is_subset_of_arr1(arr1, arr2): # assuming arr2 is a subset of arr1 and is smaller\n",
    "    m = len(arr1)\n",
    "    n = len(arr2)\n",
    "    i = 0\n",
    "    j = 0\n",
    "    \n",
    "    arr1.sort() \n",
    "    arr2.sort() \n",
    "  \n",
    "    while i < n and j < m: \n",
    "        if arr1[j] < arr2[i]: \n",
    "            j += 1\n",
    "        elif arr1[j] == arr2[i]: \n",
    "            j += 1\n",
    "            i += 1\n",
    "        elif arr1[j] > arr2[i]: # since both the arrays are sorted, there can't be an element in the long array bigger\n",
    "            return False\n",
    "        if j == m and i < n: # if there are still elements in arr2 that were not seen while arr1 is seen, return False\n",
    "            return False\n",
    "        if i == n: # if all the items are seen already, return True\n",
    "            return True\n",
    "        \n",
    "    return True\n",
    "  \n",
    "\n",
    "test_arr1 = [11, 1, 13, 21, 3, 7] \n",
    "test_arr2 = [11, 3, 7, 1] \n",
    "  \n",
    "\n",
    "print(check_if_arr2_is_subset_of_arr1(test_arr1, test_arr2))\n",
    "\n",
    "\n",
    "# Hashing implimentation with O(n) complexity where n is the larger array\n",
    "def find_if_a_is_a_subset_of_b(array_a, array_b): # array b is the larger array\n",
    "   \n",
    "    hash_set = set()\n",
    "    for i in array_b:\n",
    "        hash_set.add(i)\n",
    "    \n",
    "    # check if all the items of the smaller array are in the hash\n",
    "    for i in range(len(array_a)):\n",
    "        if array_a[i] not in hash_set:\n",
    "            return False\n",
    "    return True\n",
    "        \n",
    "print(find_if_a_is_a_subset_of_b(test_arr2, test_arr1))\n",
    "\n"
   ]
  },
  {
   "cell_type": "code",
   "execution_count": 11,
   "metadata": {},
   "outputs": [
    {
     "data": {
      "text/plain": [
       "[[7, 2], [6, 3], [3, 6], [2, 7]]"
      ]
     },
     "execution_count": 11,
     "metadata": {},
     "output_type": "execute_result"
    }
   ],
   "source": [
    "# Print all pairs with given sum\n",
    "# Ex: arr[] = {2, 5, 17, -1}, sum = 7, Output :  (2, 5)\n",
    "\n",
    "def find_pairs_with_given_sum(array, k): \n",
    "    # put all items to a hash table\n",
    "    hash_table = {}\n",
    "    for i in range(len(array)):\n",
    "        if array[i] not in hash_table.keys():\n",
    "            hash_table[array[i]] = 'seen'\n",
    "    pairs_list = []\n",
    "    # check if hash table has items k-item for each item in the array\n",
    "    for i in range(len(array)):\n",
    "        pairing_item = k - array[i] \n",
    "        if pairing_item in hash_table.keys():\n",
    "            pairs_list.append([pairing_item, array[i]])\n",
    "    return pairs_list\n",
    "\n",
    "test_array = [2,3,1,6,7,4,0]\n",
    "k = 9\n",
    "find_pairs_with_given_sum(test_array, k)"
   ]
  },
  {
   "cell_type": "code",
   "execution_count": 12,
   "metadata": {},
   "outputs": [
    {
     "name": "stdout",
     "output_type": "stream",
     "text": [
      "a\n"
     ]
    }
   ],
   "source": [
    "# Find first repeated character\n",
    "\n",
    "test_text = 'ajdfhajfh' # the answer should be 'a' as first repeated character\n",
    "a_dict = {}\n",
    "for i in test_text:\n",
    "    if i not in a_dict.keys():\n",
    "        a_dict[i] = 'seen once'\n",
    "    else:\n",
    "        print(i)\n",
    "        break"
   ]
  },
  {
   "cell_type": "code",
   "execution_count": 13,
   "metadata": {},
   "outputs": [
    {
     "name": "stdout",
     "output_type": "stream",
     "text": [
      "[-6, -1, 0, 6, 7, 13, 6, 4, -3, 5, 6, 15] {-6: [0], -1: [1], 0: [2], 6: [3, 6, 10], 7: [4], 13: [5], 4: [7], -3: [8], 5: [9], 15: [11]}\n"
     ]
    },
    {
     "data": {
      "text/plain": [
       "[[-6, 5, 1], [1, 6, -7], [-2, -7, 8, 1]]"
      ]
     },
     "execution_count": 13,
     "metadata": {},
     "output_type": "execute_result"
    }
   ],
   "source": [
    "# Find all zero sum subarrays in an array of numbers\n",
    "\n",
    "test_array = [-6,5,1,6,1,6,-7,-2,-7,8,1,9] # output [-6,5,1], [1,6,-7] , [-2,-7,8,1]\n",
    "\n",
    "def zero_sum_subarrays(array):\n",
    "    # make the sum array\n",
    "    sum_array = []\n",
    "    total = 0\n",
    "    for i in array:\n",
    "        total += i\n",
    "        sum_array.append(total)\n",
    "    \n",
    "    # loop over the sum array and if the item in the sum array is seen twice, find where it has seen earlier,\n",
    "    # mark where it has been seen again, save the items at start+1 to end+1 indices \n",
    "    # if there is any item shows 0 in the sub array, mark the index save all the items before including the marked index\n",
    "    results = []\n",
    "    hash_items = {}\n",
    "    for i in range(len(sum_array)):\n",
    "        if sum_array[i] == 0: results.append(array[:i+1])\n",
    "        if sum_array[i] in hash_items.keys():\n",
    "            hash_items[sum_array[i]].append(i)\n",
    "        else:\n",
    "            hash_items[sum_array[i]] = [i]\n",
    "        \n",
    "    for k,v in hash_items.items():\n",
    "        if len(v) > 1:\n",
    "            for i in range(1,len(v)):\n",
    "                results.append(array[v[i-1]+1 : v[i]+1])\n",
    "                \n",
    "        \n",
    "    print(sum_array, hash_items) # to view\n",
    "    return results\n",
    "        \n",
    "zero_sum_subarrays(test_array)\n",
    "    \n",
    "    \n",
    "    "
   ]
  },
  {
   "cell_type": "code",
   "execution_count": 14,
   "metadata": {},
   "outputs": [
    {
     "data": {
      "text/plain": [
       "True"
      ]
     },
     "execution_count": 14,
     "metadata": {},
     "output_type": "execute_result"
    }
   ],
   "source": [
    "# Check if two arrays are equal or not\n",
    "\n",
    "test_array1 = [5,1,6,1,6,-2]\n",
    "test_array2 = [1,6,6,1,-2,5]\n",
    "\n",
    "def check_if_same(arr1,arr2):\n",
    "    if len(arr1) != len(arr2): return False\n",
    "    \n",
    "    hash_table = {}\n",
    "    for i in range(len(test_array1)):\n",
    "        if test_array1[i] in hash_table.keys():\n",
    "            hash_table[test_array1[i]] += 1\n",
    "        else:\n",
    "            hash_table[test_array1[i]] = 1\n",
    "    \n",
    "    hash_table2 = {}\n",
    "    for i in range(len(test_array2)):\n",
    "        if test_array2[i] in hash_table2.keys():\n",
    "            hash_table2[test_array2[i]] += 1\n",
    "        else:\n",
    "            hash_table2[test_array2[i]] = 1\n",
    "            \n",
    "    for k, v in hash_table.items():\n",
    "        v = hash_table[k]\n",
    "        if k not in hash_table2.keys():\n",
    "            return False\n",
    "        if v != hash_table2[k]:\n",
    "            return False\n",
    "    return True\n",
    "        \n",
    "check_if_same(test_array1, test_array2)     \n",
    "        \n",
    "       "
   ]
  },
  {
   "cell_type": "code",
   "execution_count": 15,
   "metadata": {},
   "outputs": [
    {
     "name": "stdout",
     "output_type": "stream",
     "text": [
      "[[0 1 2 3 4 5]\n",
      " [1 2 3 4 5 6]\n",
      " [2 3 3 4 5 6]\n",
      " [3 4 4 5 6 7]\n",
      " [4 5 5 5 6 7]\n",
      " [5 6 6 6 7 7]]\n",
      "7\n"
     ]
    },
    {
     "data": {
      "text/plain": [
       "['Z', 'V', 'K', 'L', 'A', 'D', 'B']"
      ]
     },
     "execution_count": 15,
     "metadata": {},
     "output_type": "execute_result"
    }
   ],
   "source": [
    "# Return the length and the list of items of the shortest supersequence of X and Y strings\n",
    "\n",
    "# Dynamic Programming Approach:\n",
    "import numpy as np\n",
    "\n",
    "def shortest_supersequence(X, Y): \n",
    "    m = len(X)\n",
    "    n = len(Y)\n",
    "    memo_list = np.zeros([m+1, n+1], dtype = int)\n",
    "\n",
    "    for i in range(1, m + 1): \n",
    "        for j in range(1, n+1): \n",
    "            memo_list[0][j] = j # if there is no item in the X string, the result is length of Y\n",
    "            memo_list[i][0] = i # if there is no item in the Y string, the result is length of X\n",
    "              \n",
    "            if (X[i - 1] == Y[j - 1]):  \n",
    "                memo_list[i][j] = 1 + memo_list[i - 1][j - 1] \n",
    "                   \n",
    "            else: \n",
    "                memo_list[i][j] = 1 + min(memo_list[i - 1][j], memo_list[i][j - 1]) \n",
    "    \n",
    "    print(memo_list) # to view\n",
    "    print(memo_list[m][n]) # answer to the length of the supersequence\n",
    "  \n",
    "    i = m \n",
    "    j = n \n",
    "    result = []\n",
    "    while i > 0 and j > 0: \n",
    "        if X[i - 1] == Y[j - 1]: \n",
    "            result.insert(0, X[i-1]) \n",
    "            i -= 1\n",
    "            j -= 1\n",
    "\n",
    "        elif memo_list[i - 1][j] > memo_list[i][j - 1]: \n",
    "            result.insert(0, Y[j-1]) \n",
    "            j -= 1\n",
    "\n",
    "        else: \n",
    "            result.insert(0, X[i-1]) \n",
    "            i -= 1\n",
    "\n",
    "    # if j == 0\n",
    "    while i > 0: \n",
    "        result.insert(0, X[i-1])  \n",
    "        i -= 1\n",
    "\n",
    "    \n",
    "    #if i == 0\n",
    "    while j > 0: \n",
    "        result.insert(0, Y[j-1]) \n",
    "        j -= 1\n",
    "\n",
    "  \n",
    "    return result\n",
    "    \n",
    "test_x = \"VKLAB\"\n",
    "test_y = \"ZKADB\"\n",
    "shortest_supersequence(test_x, test_y)"
   ]
  },
  {
   "cell_type": "code",
   "execution_count": 16,
   "metadata": {},
   "outputs": [
    {
     "name": "stdout",
     "output_type": "stream",
     "text": [
      "daewsqtwwm\n",
      "daewsqtwwm\n"
     ]
    }
   ],
   "source": [
    "# Find the smallest window that contains all characters of a given string   \n",
    "\n",
    "import numpy as np\n",
    "def find_sub_string(string):  \n",
    "    ctr, start_pos, start_pos_index, min_len = 0, 0, -1, np.inf\n",
    "    curr_count = {}\n",
    "    for i in range(len(string)): \n",
    "        if string[i] in curr_count.keys():\n",
    "            curr_count[string[i]] += 1\n",
    "        else:\n",
    "            curr_count[string[i]] = 1\n",
    "            ctr += 1 # the number of characters seen only once\n",
    "\n",
    "        if ctr == len(set(string)): # starting from index 0 to the index i, all items are already seen once \n",
    "            while curr_count[string[start_pos]] > 1: \n",
    "                curr_count[string[start_pos]] -= 1\n",
    "                start_pos += 1\n",
    "            len_window = i+1 - start_pos \n",
    "            if min_len > len_window: \n",
    "                min_len = len_window \n",
    "                start_pos_index = start_pos \n",
    "            return string[start_pos_index: start_pos_index + min_len] \n",
    "\n",
    "test_string = \"asdaewsqtwwmsa\"\n",
    "print(find_sub_string(test_string))\n",
    "\n",
    "\n",
    "# Easier way of finding the smallest window that contains all characters of a given string:\n",
    "# Discard all items that are seen more than once from both ends and then output the middle part of the string\n",
    "\n",
    "def find_sub_string(string):  \n",
    "    \n",
    "    curr_count = {}\n",
    "    for i in range(len(string)): \n",
    "        if string[i] in curr_count.keys():\n",
    "            curr_count[string[i]] += 1\n",
    "        else:\n",
    "            curr_count[string[i]] = 1\n",
    "            \n",
    "    start = 0\n",
    "    end = len(string)-1\n",
    "    while curr_count[string[start]] > 1:\n",
    "        start += 1\n",
    "        \n",
    "    while curr_count[string[end]] > 1:\n",
    "        end -= 1\n",
    "        \n",
    "    return test_string[start:end+1]\n",
    "    \n",
    "test_string = \"asdaewsqtwwmsa\"\n",
    "print(find_sub_string(test_string))"
   ]
  },
  {
   "cell_type": "code",
   "execution_count": 17,
   "metadata": {},
   "outputs": [
    {
     "name": "stdout",
     "output_type": "stream",
     "text": [
      "t stri\n"
     ]
    }
   ],
   "source": [
    "# Function to find smallest window containing all characters of 'str2' in 'str1' \n",
    "import numpy as np\n",
    "\n",
    "def smallest_window_in_str1_having_str2(str1, str2):  \n",
    "    \n",
    "    assert(len(str1) > len(str2))\n",
    "    hash_str2 = {}\n",
    "    for i in range(len(str2)):\n",
    "        if str2[i] in hash_str2.keys():\n",
    "            hash_str2[str2[i]] += 1\n",
    "        else:\n",
    "            hash_str2[str2[i]] = 1\n",
    "    \n",
    "    hash_str1 = {}\n",
    "    for i in range(len(str1)):\n",
    "        if str1[i] in hash_str1.keys():\n",
    "            hash_str1[str1[i]] += 1\n",
    "        else:\n",
    "            hash_str1[str1[i]] = 1\n",
    "\n",
    "    start = 0\n",
    "    min_len = 0\n",
    "    for j in range(len(str1)): \n",
    "        if str1[j] == ' ': # this is important to skip since key == ' ' returns None\n",
    "            continue\n",
    "        exist = hash_str2.get(str1[j]) # check if it exists and if there are other letters to be seen later\n",
    "        if exist == None or hash_str1[str1[j]] > hash_str2[str1[j]]: \n",
    "            hash_str1[str1[j]] -= 1\n",
    "            start += 1\n",
    "            len_window = j - start \n",
    "            if len_window > min_len:  \n",
    "                min_len = len_window  \n",
    "                start_index = start  \n",
    "\n",
    "    return string[start_index + 1 : start_index + min_len]  \n",
    "\n",
    "string = \"this is a test string\"\n",
    "pat = \"tist\"\n",
    "print(smallest_window_in_str1_having_str2(string, pat))"
   ]
  },
  {
   "cell_type": "code",
   "execution_count": 18,
   "metadata": {},
   "outputs": [
    {
     "name": "stdout",
     "output_type": "stream",
     "text": [
      "a\n"
     ]
    }
   ],
   "source": [
    "# Find first element to occur k times in a string\n",
    "\n",
    "test_string = 'askdafkjaiek' \n",
    "k = 3\n",
    "# answer is 'a'\n",
    "hash_string = {}\n",
    "for i in range(len(test_string)):\n",
    "    if test_string[i] in hash_string.keys():\n",
    "        hash_string[test_string[i]] += 1\n",
    "        if hash_string[test_string[i]] == k:\n",
    "            print(test_string[i])\n",
    "            break\n",
    "    else:\n",
    "        hash_string[test_string[i]] = 1"
   ]
  }
 ],
 "metadata": {
  "kernelspec": {
   "display_name": "Python 3",
   "language": "python",
   "name": "python3"
  },
  "language_info": {
   "codemirror_mode": {
    "name": "ipython",
    "version": 3
   },
   "file_extension": ".py",
   "mimetype": "text/x-python",
   "name": "python",
   "nbconvert_exporter": "python",
   "pygments_lexer": "ipython3",
   "version": "3.7.4"
  }
 },
 "nbformat": 4,
 "nbformat_minor": 2
}
