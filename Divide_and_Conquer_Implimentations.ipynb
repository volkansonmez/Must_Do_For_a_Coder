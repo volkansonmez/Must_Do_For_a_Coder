{
 "cells": [
  {
   "cell_type": "code",
   "execution_count": 46,
   "metadata": {},
   "outputs": [
    {
     "data": {
      "text/plain": [
       "[-1, 0, 2, 6, 24, 52]"
      ]
     },
     "execution_count": 46,
     "metadata": {},
     "output_type": "execute_result"
    }
   ],
   "source": [
    "# Quick-Sort\n",
    "\n",
    "test_array = [2,6,0,-1,52,24]\n",
    "def quicksort(array):\n",
    "    n = len(array)\n",
    "    if n <= 1: return array\n",
    "    mid = n // 2\n",
    "    pivot = array[mid]\n",
    "    left = [i for i in array if i < pivot]\n",
    "    middle = [i for i in array if i == pivot]\n",
    "    right = [i for i in array if i > pivot]\n",
    "    sort = quicksort(left) + middle + quicksort(right)\n",
    "    return sort\n",
    "\n",
    "quicksort(test_array)"
   ]
  },
  {
   "cell_type": "code",
   "execution_count": 56,
   "metadata": {},
   "outputs": [
    {
     "data": {
      "text/plain": [
       "[-1, 0, 2, 6, 24, 52]"
      ]
     },
     "execution_count": 56,
     "metadata": {},
     "output_type": "execute_result"
    }
   ],
   "source": [
    "# Merge-Sort\n",
    "\n",
    "def merge_sort(array):\n",
    "    n = len(array)\n",
    "    if n <= 1: return array\n",
    "    mid = n // 2\n",
    "    left = array[:mid]\n",
    "    right = array[mid:]\n",
    "    a = merge_sort(left)\n",
    "    b = merge_sort(right)\n",
    "    i = 0\n",
    "    j = 0\n",
    "    combine = []\n",
    "    while i < len(a) and j < len(b):\n",
    "        if a[i] < b[j]:\n",
    "            combine.append(a[i])\n",
    "            i += 1\n",
    "        elif a[i] > b[j]:\n",
    "            combine.append(b[j])\n",
    "            j += 1  \n",
    "        else:\n",
    "            combine.append(a[i])\n",
    "            combine.append(b[j])\n",
    "            i += 1\n",
    "            j += 1\n",
    "            \n",
    "    if i == len(a):\n",
    "        for k in range(j, len(b)):\n",
    "            combine.append(b[k])\n",
    "    if j == len(b):\n",
    "        for k in range(i, len(a)):\n",
    "            combine.append(a[k])\n",
    "    \n",
    "    return combine\n",
    "\n",
    "merge_sort(test_array)\n",
    "\n",
    "\n",
    "    "
   ]
  },
  {
   "cell_type": "code",
   "execution_count": 48,
   "metadata": {},
   "outputs": [
    {
     "name": "stdout",
     "output_type": "stream",
     "text": [
      "([-1, 0, 2, 6, 24, 52], 6)\n"
     ]
    }
   ],
   "source": [
    "# Merge Sort with Inversion Count\n",
    "\n",
    "def merge_sort_w_inversion_count(arr):\n",
    "    inversions = 0\n",
    "    if len(arr) == 1: return arr, inversions\n",
    "    left = arr[:len(arr)//2]\n",
    "    right = arr[len(arr)//2:]\n",
    "    a, ai = merge_sort_w_inversion_count(left)\n",
    "    b, bi = merge_sort_w_inversion_count(right)\n",
    "    inversions = ai + bi\n",
    "    # merge two sorted arrays a and b\n",
    "    combine = [] \n",
    "    i = 0\n",
    "    j = 0\n",
    "    while i < len(a) and j < len(b):\n",
    "        if a[i] < b[j]:\n",
    "            combine.append(a[i])\n",
    "            i += 1\n",
    "        elif a[i] > b[j]:\n",
    "            combine.append(b[j])\n",
    "            j += 1\n",
    "            inversions += 1     \n",
    "        else:\n",
    "            combine.append(a[i])\n",
    "            combine.append(b[j])\n",
    "            i += 1\n",
    "            j += 1\n",
    "            \n",
    "        if i == len(a):\n",
    "            for k in range(j, len(b)):\n",
    "                combine.append(b[k])\n",
    "        if j == len(b):\n",
    "            for k in range(i, len(a)):\n",
    "                combine.append(a[k])\n",
    "                inversions += 1\n",
    "    \n",
    "    # print(arr, a, b, inversions)                   \n",
    "    return combine, inversions\n",
    "    \n",
    "\n",
    "print(merge_sort_w_inversion_count(test_array))\n",
    "    "
   ]
  }
 ],
 "metadata": {
  "kernelspec": {
   "display_name": "Python 3",
   "language": "python",
   "name": "python3"
  },
  "language_info": {
   "codemirror_mode": {
    "name": "ipython",
    "version": 3
   },
   "file_extension": ".py",
   "mimetype": "text/x-python",
   "name": "python",
   "nbconvert_exporter": "python",
   "pygments_lexer": "ipython3",
   "version": "3.7.4"
  }
 },
 "nbformat": 4,
 "nbformat_minor": 2
}
